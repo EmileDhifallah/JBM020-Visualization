{
 "cells": [
  {
   "cell_type": "code",
   "execution_count": 52,
   "metadata": {},
   "outputs": [],
   "source": [
    "import os\n",
    "import pandas as pd\n",
    "import seaborn as sns\n",
    "import matplotlib.pyplot as plt\n",
    "import numpy as np\n",
    "import time"
   ]
  },
  {
   "cell_type": "code",
   "execution_count": 197,
   "metadata": {},
   "outputs": [],
   "source": [
    "data = pd.read_table(\"profile_semantic_trafo_final.txt\", delim_whitespace= True)\n",
    "\n",
    "def time_filter(df, interval):\n",
    "\n",
    "def dynamic_heatmap(path, df, X, Y, shift_over, n, interval, values=None, aggfunc=np.sum, **kwargs):\n",
    "    \"\"\"\n",
    "    ~~~ ARGS ~~~\n",
    "    path:        str           folder to store images in\n",
    "    df:          pd.DataFrame  data frame\n",
    "    X:           str           Name of column for X-axis\n",
    "    Y:           str           Name of column for Y-axis\n",
    "    shift_over   str           Name of column to apply shift over\n",
    "    n            int           Number of shifts\n",
    "    interval     float         Interval of shift column at each iteration\n",
    "    values       str           Name of column to summarize\n",
    "    aggfunc      function      Function to summarize values column\n",
    "    **kwargs     -             Additional arguments to be passed into sns.heatmap()\n",
    "    \"\"\"\n",
    "    # CREATE DIR FOR GRAPHS\n",
    "    if not os.path.exists(path):\n",
    "        os.makedirs(path)\n",
    "    \n",
    "    # IF NO VALUE COLUMN IS SET JUST USE FREQUENCIES\n",
    "    if values is None:\n",
    "        df[\"#@frequency_column\"] = 1\n",
    "        values = \"#@frequency_column\"\n",
    "    \n",
    "    # PROPERTIES FOR SHIFT\n",
    "    min_of_shift = min(df[shift_over])\n",
    "    step_of_shift = (max(df[shift_over]) - min(df[shift_over]) - interval) / (n-1)\n",
    "    \n",
    "    for i in range(0, n):\n",
    "        # CREATES SUBSET OF DATA FOR EVERY STEP\n",
    "        df_subset = df.loc[(df[shift_over] >= min_of_shift + step_of_shift*i) &\n",
    "                           (df[shift_over] <= min_of_shift + step_of_shift*i+interval)]\n",
    "        \n",
    "        # CALCULATES TABLE AND PLOTS IT AS HEATMAP\n",
    "        table = pd.crosstab(df_subset[X], df_subset[Y], values=df_subset[values], aggfunc=aggfunc)\n",
    "        plt.clf() # Clear window\n",
    "        plot = sns.heatmap(table, **kwargs)\n",
    "        \n",
    "        # SAVES FIGURE IN DIR\n",
    "        plot.get_figure().savefig(path + str(time.time()) + \".png\")\n",
    "\n",
    "def wipe(path):\n",
    "    folder = os.listdir(path)\n",
    "\n",
    "    for item in folder:\n",
    "        if item.endswith(\".png\"):\n",
    "            os.remove(os.path.join(path, item))"
   ]
  },
  {
   "cell_type": "code",
   "execution_count": 196,
   "metadata": {},
   "outputs": [
    {
     "data": {
      "image/png": "[encoded data removed]",
      "text/plain": [
       "<Figure size 432x288 with 2 Axes>"
      ]
     },
     "metadata": {
      "needs_background": "light"
     },
     "output_type": "display_data"
    }
   ],
   "source": [
    "dynamic_heatmap(\"graphs/\", data, \"start\", \"target\", \"time\", 30, 100)"
   ]
  },
  {
   "cell_type": "code",
   "execution_count": 198,
   "metadata": {},
   "outputs": [],
   "source": [
    "wipe(\"graphs\")"
   ]
  }
 ],
 "metadata": {
  "kernelspec": {
   "display_name": "Python 3",
   "language": "python",
   "name": "python3"
  },
  "language_info": {
   "codemirror_mode": {
    "name": "ipython",
    "version": 3
   },
   "file_extension": ".py",
   "mimetype": "text/x-python",
   "name": "python",
   "nbconvert_exporter": "python",
   "pygments_lexer": "ipython3",
   "version": "3.6.7"
  }
 },
 "nbformat": 4,
 "nbformat_minor": 2
}
