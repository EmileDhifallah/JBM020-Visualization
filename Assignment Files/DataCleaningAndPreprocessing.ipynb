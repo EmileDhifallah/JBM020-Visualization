{
 "cells": [
  {
   "cell_type": "code",
   "execution_count": 26,
   "metadata": {},
   "outputs": [
    {
     "data": {
      "text/plain": [
       "time      False\n",
       "start     False\n",
       "target    False\n",
       "weight    False\n",
       "dtype: bool"
      ]
     },
     "execution_count": 26,
     "metadata": {},
     "output_type": "execute_result"
    }
   ],
   "source": [
    "## Checking the provided lame dataset\n",
    "import pandas as pd\n",
    "import os\n",
    "\n",
    "os.chdir(\"/Users/blazejmanczak/Desktop/School/Year2/Q2/Visualization/Ass2\")\n",
    "givenData = pd.read_table(\"profile_semantic_trafo_final.txt\", delim_whitespace= True)\n",
    "\n",
    "## Checking for null values\n",
    "givenData.isnull().any()\n",
    "# Interpretation: No null values"
   ]
  },
  {
   "cell_type": "code",
   "execution_count": 27,
   "metadata": {
    "collapsed": true
   },
   "outputs": [],
   "source": [
    "### Dataset that we will use for the tool\n",
    "os.chdir(\"/Users/blazejmanczak/Desktop/School/Year2/Q2/Visualization/\")\n",
    "\n",
    "friendNetworks = pd.read_table(\"Brightkite_edges.txt\", delim_whitespace= True, header=None)\n",
    "friendNetworks.columns = [\"Person\", \"Friend_with\"]\n",
    "\n",
    "check_ins = pd.read_table(\"Brightkite_totalCheckins.txt\", delim_whitespace= True, header=None)\n",
    "check_ins.columns = ['User', \"Check-in_time\", \"Latitude\", \"Longitude\", \"Location_id\"]\n",
    "\n",
    "check_ins[\"Check-in_time\"] = pd.to_datetime(check_ins[\"Check-in_time\"])"
   ]
  },
  {
   "cell_type": "code",
   "execution_count": 28,
   "metadata": {},
   "outputs": [
    {
     "name": "stdout",
     "output_type": "stream",
     "text": [
      "Shapes for friendNetwork and check_ins before preprocessing: ((428156, 2), (4747287, 5))\n",
      "Shapes for friendNetwork and check_ins after preprocessing: ((428156, 2), (4491074, 5))\n"
     ]
    }
   ],
   "source": [
    "## Investigating null values and error values\n",
    "print(\"Shapes for friendNetwork and check_ins before preprocessing:\", (friendNetworks.shape, check_ins.shape))\n",
    "def dropNulls(data):\n",
    "    return data.dropna(axis = 0)\n",
    "\n",
    "## Latitude and longitudes are not zeros \n",
    "\n",
    "def dropZeroLocations(data):\n",
    "    return data[(data['Latitude'] != 0) & (data['Longitude'] != 0)]\n",
    "\n",
    "friendNetworks = dropNulls(friendNetworks)\n",
    "check_ins = dropNulls(dropZeroLocations(check_ins))\n",
    "print(\"Shapes for friendNetwork and check_ins after preprocessing:\", (friendNetworks.shape, check_ins.shape))"
   ]
  }
 ],
 "metadata": {
  "kernelspec": {
   "display_name": "Python 3",
   "language": "python",
   "name": "python3"
  },
  "language_info": {
   "codemirror_mode": {
    "name": "ipython",
    "version": 3
   },
   "file_extension": ".py",
   "mimetype": "text/x-python",
   "name": "python",
   "nbconvert_exporter": "python",
   "pygments_lexer": "ipython3",
   "version": "3.6.3"
  }
 },
 "nbformat": 4,
 "nbformat_minor": 2
}
